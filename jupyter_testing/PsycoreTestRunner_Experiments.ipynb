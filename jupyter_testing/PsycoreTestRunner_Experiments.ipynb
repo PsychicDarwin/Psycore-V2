{
 "cells": [
  {
   "cell_type": "code",
   "execution_count": null,
   "id": "67f23bf6",
   "metadata": {},
   "outputs": [],
   "source": [
    "%pip install -r ../requirements.txt"
   ]
  },
  {
   "cell_type": "code",
   "execution_count": null,
   "id": "05443294",
   "metadata": {},
   "outputs": [],
   "source": [
    "import sys\n",
    "import os\n",
    "\n",
    "# Get the parent directory\n",
    "parent_dir = os.path.abspath(os.path.join(os.path.dirname('PsycoreTestRunner.py'), \"..\"))\n",
    "\n",
    "# Add the parent directory to sys.path\n",
    "sys.path.insert(0, parent_dir)\n",
    "from src.results import ResultManager \n",
    "result_manager = ResultManager()\n",
    "\n",
    "# Now you can import your module\n",
    "import PsycoreTestRunner  # Replace 'your_module' with the actual filename (without .py extension)"
   ]
  },
  {
   "cell_type": "code",
   "execution_count": null,
   "id": "c26770cb",
   "metadata": {},
   "outputs": [],
   "source": [
    "runner = PsycoreTestRunner.PsycoreTestRunner(preprocess=False)\n",
    "doc_ids = [1,4,7,15,34]"
   ]
  },
  {
   "cell_type": "code",
   "execution_count": null,
   "id": "d03bd343",
   "metadata": {},
   "outputs": [],
   "source": [
    "runner.update_config({\n",
    "        \"logger\":{\n",
    "            \"level\": \"WARNING\"\n",
    "        },\n",
    "        \"model\": {\n",
    "            \"primary\": \"oai_4o_latest\"\n",
    "        },\n",
    "        \"document_range\": {\n",
    "            \"enabled\": True,\n",
    "            \"document_ids\": [1,4,7,15,34]\n",
    "        },\n",
    "        \"rag\": {\n",
    "            \"text_similarity_threshold\": 0.3\n",
    "        },\n",
    "        \"iteration\": {\n",
    "            \"loop_retries\": 2,\n",
    "            \"pass_threshold\": 0.1\n",
    "        }\n",
    "    },False)"
   ]
  },
  {
   "cell_type": "code",
   "execution_count": 5,
   "id": "3eaa322a",
   "metadata": {},
   "outputs": [],
   "source": [
    "prompts = [\"What programs are there to enhance broadband?\", \"What does the Department of Digital, Culture, Media and Sport do?\",\"What is FTTC?\"]"
   ]
  },
  {
   "cell_type": "code",
   "execution_count": null,
   "id": "0a5ef6b0",
   "metadata": {},
   "outputs": [],
   "source": [
    "\n",
    "import json\n",
    "mllm_models = [\"oai_4o_latest\",\"oai_chatgpt_latest\", \"claude_3_sonnet\", \"claude_3_haiku\",\"gemini_1.5_flash\", \"grok_2_vision\",\"llava_7b\",\"llava_13b\"]\n",
    "config_mllm = []\n",
    "for model in mllm_models:\n",
    "    config_mllm.append({\n",
    "        \"model\": {\n",
    "            \"primary\": model\n",
    "        }\n",
    "    })\n",
    "\n",
    "configs =  config_mllm\n",
    "\n",
    "for config in configs:\n",
    "    # Update the runner's configuration\n",
    "    runner.update_config(config, False)\n",
    "    print(\"Testing model:\", config[\"model\"][\"primary\"])\n",
    "    results = runner.evaluate_prompts(prompts)\n",
    "    # Map each result to its corresponding prompt\n",
    "    prompt_results = {prompt: result for prompt, result in zip(prompts, results)}\n",
    "    res_config = runner.get_config()\n",
    "    result_manager.write_result(res_config, prompt_results)\n"
   ]
  }
 ],
 "metadata": {
  "kernelspec": {
   "display_name": ".venv",
   "language": "python",
   "name": "python3"
  },
  "language_info": {
   "codemirror_mode": {
    "name": "ipython",
    "version": 3
   },
   "file_extension": ".py",
   "mimetype": "text/x-python",
   "name": "python",
   "nbconvert_exporter": "python",
   "pygments_lexer": "ipython3",
   "version": "3.11.4"
  }
 },
 "nbformat": 4,
 "nbformat_minor": 5
}
